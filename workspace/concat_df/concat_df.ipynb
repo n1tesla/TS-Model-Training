{
 "cells": [
  {
   "cell_type": "code",
   "execution_count": 3,
   "metadata": {
    "collapsed": true
   },
   "outputs": [],
   "source": [
    "import pandas as pd\n",
    "import os"
   ]
  },
  {
   "cell_type": "code",
   "execution_count": 4,
   "outputs": [],
   "source": [
    "data_path=r\"C:\\Users\\tunahan.akyol\\Desktop\\lstm\\data\\test_fusion_dataset\""
   ],
   "metadata": {
    "collapsed": false,
    "pycharm": {
     "name": "#%%\n"
    }
   }
  },
  {
   "cell_type": "code",
   "execution_count": 8,
   "outputs": [
    {
     "name": "stdout",
     "output_type": "stream",
     "text": [
      "C:\\Users\\tunahan.akyol\\Desktop\\lstm\\data\\test_fusion_dataset\\06_30_12_24_zikzak\n",
      "C:\\Users\\tunahan.akyol\\Desktop\\lstm\\data\\test_fusion_dataset\\06_30_12_39_duz_takip_edilemeyen\n",
      "C:\\Users\\tunahan.akyol\\Desktop\\lstm\\data\\test_fusion_dataset\\06_30_13_07_cember\n",
      "C:\\Users\\tunahan.akyol\\Desktop\\lstm\\data\\test_fusion_dataset\\06_30_13_17_duz_sola\n",
      "C:\\Users\\tunahan.akyol\\Desktop\\lstm\\data\\test_fusion_dataset\\06_30_13_20_zikzak\n",
      "C:\\Users\\tunahan.akyol\\Desktop\\lstm\\data\\test_fusion_dataset\\06_30_13_36_keskin_zikzak\n",
      "C:\\Users\\tunahan.akyol\\Desktop\\lstm\\data\\test_fusion_dataset\\06_30_13_58_kalp\n",
      "C:\\Users\\tunahan.akyol\\Desktop\\lstm\\data\\test_fusion_dataset\\07_01_11_22_just_neg\n",
      "C:\\Users\\tunahan.akyol\\Desktop\\lstm\\data\\test_fusion_dataset\\07_01_11_35_duz_isinlanma\n",
      "C:\\Users\\tunahan.akyol\\Desktop\\lstm\\data\\test_fusion_dataset\\07_01_11_56_neg\n",
      "C:\\Users\\tunahan.akyol\\Desktop\\lstm\\data\\test_fusion_dataset\\07_01_12_39_random\n",
      "C:\\Users\\tunahan.akyol\\Desktop\\lstm\\data\\test_fusion_dataset\\07_01_12_54_S\n",
      "C:\\Users\\tunahan.akyol\\Desktop\\lstm\\data\\test_fusion_dataset\\07_01_13_02_duz\n",
      "C:\\Users\\tunahan.akyol\\Desktop\\lstm\\data\\test_fusion_dataset\\07_01_13_27_duz_sola\n",
      "C:\\Users\\tunahan.akyol\\Desktop\\lstm\\data\\test_fusion_dataset\\07_01_13_34_negatif\n",
      "C:\\Users\\tunahan.akyol\\Desktop\\lstm\\data\\test_fusion_dataset\\07_01_13_51_duz\n",
      "C:\\Users\\tunahan.akyol\\Desktop\\lstm\\data\\test_fusion_dataset\\07_01_14_22_kalp\n",
      "C:\\Users\\tunahan.akyol\\Desktop\\lstm\\data\\test_fusion_dataset\\07_01_14_35_7gen\n"
     ]
    }
   ],
   "source": [
    "df_batch=pd.DataFrame([])\n",
    "for i in os.listdir(data_path):\n",
    "    path=data_path+\"\\\\\"+i\n",
    "    df_train=pd.read_csv(path+\"\\\\extractedData_All_Train.csv\")\n",
    "    df_batch=pd.concat([df_batch,df_train])\n",
    "df_batch.to_csv(data_path+\"\\\\extractedData_All_Train.csv\")\n"
   ],
   "metadata": {
    "collapsed": false,
    "pycharm": {
     "name": "#%%\n"
    }
   }
  },
  {
   "cell_type": "code",
   "execution_count": null,
   "outputs": [],
   "source": [],
   "metadata": {
    "collapsed": false,
    "pycharm": {
     "name": "#%%\n"
    }
   }
  }
 ],
 "metadata": {
  "kernelspec": {
   "display_name": "Python 3",
   "language": "python",
   "name": "python3"
  },
  "language_info": {
   "codemirror_mode": {
    "name": "ipython",
    "version": 2
   },
   "file_extension": ".py",
   "mimetype": "text/x-python",
   "name": "python",
   "nbconvert_exporter": "python",
   "pygments_lexer": "ipython2",
   "version": "2.7.6"
  }
 },
 "nbformat": 4,
 "nbformat_minor": 0
}